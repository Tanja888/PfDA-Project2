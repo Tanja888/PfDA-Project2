{
 "cells": [
  {
   "cell_type": "markdown",
   "id": "eed93643",
   "metadata": {},
   "source": [
    "### Programming for Data Analysis Project 2"
   ]
  },
  {
   "cell_type": "markdown",
   "id": "89249575",
   "metadata": {},
   "source": [
    "### Wisconsin Breast Cancer Dataset Analysis"
   ]
  },
  {
   "cell_type": "code",
   "execution_count": 22,
   "id": "1943f7de",
   "metadata": {},
   "outputs": [],
   "source": [
    "# about data, overview and background\n",
    "# import data with pandas\n",
    "# preprocessing, cleaning"
   ]
  },
  {
   "cell_type": "markdown",
   "id": "6d0677e6",
   "metadata": {},
   "source": [
    "### Introduction"
   ]
  },
  {
   "cell_type": "markdown",
   "id": "433f7652",
   "metadata": {},
   "source": [
    "Breast cancer is one of the most common types of cancer among women. It can be described as changing and abnormal growth of breast cells while grouping of these cells leads to tumour formation [[1]](https://www.cancer.ie/cancer-information-and-support/cancer-types/breast-cancer). Breast cancer research by Wolberg, Street and Mangasarian from University of Wisconsin conducted in 1990s by analysing characteristics of cell nuclei in a digitized image of a fine needle aspirate of a breast mass is often used in machine learning and data analytics. [[2]](https://archive.ics.uci.edu/ml/datasets/Breast+Cancer+Wisconsin+%28Diagnostic%29) Diagnostic dataset was taken with the description of attributes that were measured in order to predict between two types of tumours, benign or malignant. Various classification machine learning algorithms were performed over the years on these data with different level of accuracy: Decision trees, Naïve Bayes, Support Vector Machine, Logistic regression and k-Nearest Neighbors."
   ]
  },
  {
   "cell_type": "markdown",
   "id": "834e0ae4",
   "metadata": {},
   "source": [
    "Before we use some of these models, we are going to import and explore the dataset.  "
   ]
  },
  {
   "cell_type": "code",
   "execution_count": 1,
   "id": "ee4900b4",
   "metadata": {},
   "outputs": [],
   "source": [
    "import numpy as np\n",
    "import pandas as pd\n",
    "import seaborn as sns\n",
    "import matplotlib.pyplot as plt\n",
    "import sklearn.neighbors as nei\n",
    "import sklearn.model_selection as mod"
   ]
  },
  {
   "cell_type": "code",
   "execution_count": null,
   "id": "20fa82d9",
   "metadata": {},
   "outputs": [],
   "source": []
  },
  {
   "cell_type": "code",
   "execution_count": null,
   "id": "1b06d1d7",
   "metadata": {},
   "outputs": [],
   "source": []
  },
  {
   "cell_type": "markdown",
   "id": "4c8c94ea",
   "metadata": {},
   "source": [
    "### References:\n"
   ]
  },
  {
   "cell_type": "markdown",
   "id": "181a4530",
   "metadata": {},
   "source": [
    " * McGinley, B.(2022). Lectures; Project II, Programming for Data Analysis, Atlantic Technological University\n",
    " *  Retrieved December, 2022 from https://archive.ics.uci.edu/ml/datasets/breast+cancer+wisconsin+(diagnostic)   \n",
    " * https://www.cancer.ie/cancer-information-and-support/cancer-types/breast-cancer  \n",
    " * https://www.kaggle.com/datasets/uciml/breast-cancer-wisconsin-data  \n",
    " [1] Irish Cancer Society. (n.d.). Breast Cancer. What is breast cancer? Retrieved January 8, 2023 from https://www.cancer.ie/cancer-information-and-support/cancer-types/breast-cancer    \n",
    " [2] Wolberg, W.H, Street, W.N., Mangasarian, O.L. (1995). Breast Cancer Wisconsin (Diagnostic) Data Set. UCI Machine Learning Repository. Irvine, CA: University of California, School of Information and Computer Science. Retrieved December 20, 2022 from https://archive.ics.uci.edu/ml/datasets/Breast+Cancer+Wisconsin+%28Diagnostic%29  \n",
    "        \n",
    "    \n",
    "\n",
    "\n"
   ]
  },
  {
   "cell_type": "code",
   "execution_count": null,
   "id": "83fc90ab",
   "metadata": {},
   "outputs": [],
   "source": []
  }
 ],
 "metadata": {
  "kernelspec": {
   "display_name": "Python 3 (ipykernel)",
   "language": "python",
   "name": "python3"
  },
  "language_info": {
   "codemirror_mode": {
    "name": "ipython",
    "version": 3
   },
   "file_extension": ".py",
   "mimetype": "text/x-python",
   "name": "python",
   "nbconvert_exporter": "python",
   "pygments_lexer": "ipython3",
   "version": "3.9.13"
  },
  "toc": {
   "base_numbering": 1,
   "nav_menu": {},
   "number_sections": false,
   "sideBar": true,
   "skip_h1_title": false,
   "title_cell": "Table of Contents",
   "title_sidebar": "Contents",
   "toc_cell": false,
   "toc_position": {},
   "toc_section_display": true,
   "toc_window_display": false
  }
 },
 "nbformat": 4,
 "nbformat_minor": 5
}
