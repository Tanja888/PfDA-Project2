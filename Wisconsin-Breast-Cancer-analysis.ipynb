{
 "cells": [
  {
   "cell_type": "markdown",
   "id": "eed93643",
   "metadata": {},
   "source": [
    "### Programming for Data Analysis Project 2"
   ]
  },
  {
   "cell_type": "markdown",
   "id": "89249575",
   "metadata": {},
   "source": [
    "### Wisconsin Breast Cancer Dataset Analysis"
   ]
  },
  {
   "cell_type": "code",
   "execution_count": 22,
   "id": "1943f7de",
   "metadata": {},
   "outputs": [],
   "source": [
    "# about data, overview and background\n",
    "# import data with pandas\n",
    "# preprocessing, cleaning"
   ]
  },
  {
   "cell_type": "markdown",
   "id": "fc8b57f4",
   "metadata": {},
   "source": [
    "### About dataset"
   ]
  },
  {
   "cell_type": "markdown",
   "id": "c305129e",
   "metadata": {},
   "source": [
    "From the two types of datasets for the Wisconsin Breast Cancer we took the diagnostic one for our analysis and retreived it from Kaggle platform. To look at the attributes of the dataset we refered to the UCI Machine Learning Repository. \n",
    "\n"
   ]
  },
  {
   "cell_type": "code",
   "execution_count": 23,
   "id": "9c6a7190",
   "metadata": {},
   "outputs": [],
   "source": [
    "import numpy as np\n",
    "import pandas as pd\n",
    "import seaborn as sns\n",
    "import matplotlib.pyplot as plt\n",
    "import sklearn.neighbors as nei\n",
    "import sklearn.model_selection as mod"
   ]
  },
  {
   "cell_type": "code",
   "execution_count": null,
   "id": "cfcbdabf",
   "metadata": {},
   "outputs": [],
   "source": []
  },
  {
   "cell_type": "code",
   "execution_count": null,
   "id": "6f17b56a",
   "metadata": {},
   "outputs": [],
   "source": []
  },
  {
   "cell_type": "code",
   "execution_count": null,
   "id": "20fa82d9",
   "metadata": {},
   "outputs": [],
   "source": []
  },
  {
   "cell_type": "code",
   "execution_count": null,
   "id": "1b06d1d7",
   "metadata": {},
   "outputs": [],
   "source": []
  },
  {
   "cell_type": "markdown",
   "id": "4c8c94ea",
   "metadata": {},
   "source": [
    "### References:\n"
   ]
  },
  {
   "cell_type": "markdown",
   "id": "35b5308d",
   "metadata": {},
   "source": [
    " * McGinley, B.(2022). Lectures; Project II, Programming for Data Analysis, Atlantic Technological University\n",
    " * https://www.kaggle.com/datasets/uciml/breast-cancer-wisconsin-data  \n",
    " * Wolberg, W.H, Street, W.N., Mangasarian, O.L. (1995). UCI Machine Learning Repository. Irvine, CA: University of California, School of Information and Computer Science. Retrieved December, 2022 from https://archive.ics.uci.edu/ml/datasets/breast+cancer+wisconsin+(diagnostic)   \n",
    "\n",
    "\n",
    "\n",
    "\n",
    "\n"
   ]
  },
  {
   "cell_type": "code",
   "execution_count": null,
   "id": "83fc90ab",
   "metadata": {},
   "outputs": [],
   "source": []
  }
 ],
 "metadata": {
  "kernelspec": {
   "display_name": "Python 3 (ipykernel)",
   "language": "python",
   "name": "python3"
  },
  "language_info": {
   "codemirror_mode": {
    "name": "ipython",
    "version": 3
   },
   "file_extension": ".py",
   "mimetype": "text/x-python",
   "name": "python",
   "nbconvert_exporter": "python",
   "pygments_lexer": "ipython3",
   "version": "3.9.13"
  },
  "toc": {
   "base_numbering": 1,
   "nav_menu": {},
   "number_sections": false,
   "sideBar": true,
   "skip_h1_title": false,
   "title_cell": "Table of Contents",
   "title_sidebar": "Contents",
   "toc_cell": false,
   "toc_position": {},
   "toc_section_display": true,
   "toc_window_display": false
  }
 },
 "nbformat": 4,
 "nbformat_minor": 5
}
